{
  "nbformat": 4,
  "nbformat_minor": 0,
  "metadata": {
    "colab": {
      "provenance": [],
      "authorship_tag": "ABX9TyPzT0xn6kVcMWdnAum346rX",
      "include_colab_link": true
    },
    "kernelspec": {
      "name": "python3",
      "display_name": "Python 3"
    },
    "language_info": {
      "name": "python"
    }
  },
  "cells": [
    {
      "cell_type": "markdown",
      "metadata": {
        "id": "view-in-github",
        "colab_type": "text"
      },
      "source": [
        "<a href=\"https://colab.research.google.com/github/Shinji-Hamada/python-basic-kadai/blob/main/kadai_015.ipynb\" target=\"_parent\"><img src=\"https://colab.research.google.com/assets/colab-badge.svg\" alt=\"Open In Colab\"/></a>"
      ]
    },
    {
      "cell_type": "code",
      "source": [
        "class Human:\n",
        "  def __init__(self):\n",
        "    self.name=\"\"\n",
        "    self.age=\"\"\n",
        "  def set_name(self, name, age):\n",
        "    self.name=name\n",
        "    self.age=age\n",
        "  def show_name(self):\n",
        "    print(self.name)\n",
        "    print(self.age)\n",
        "\n",
        "shinkitoroku=Human()\n",
        "\n",
        "shinkitoroku.set_name(\"濱田\",38)\n",
        "shinkitoroku.show_name()\n"
      ],
      "metadata": {
        "id": "w5iXr8pKlo8d",
        "colab": {
          "base_uri": "https://localhost:8080/"
        },
        "outputId": "5bc3a99c-e6d0-4c85-8a61-0908056580e3"
      },
      "execution_count": 13,
      "outputs": [
        {
          "output_type": "stream",
          "name": "stdout",
          "text": [
            "濱田\n",
            "38\n"
          ]
        }
      ]
    },
    {
      "cell_type": "code",
      "source": [],
      "metadata": {
        "id": "YEuVEG2HoX0j"
      },
      "execution_count": null,
      "outputs": []
    }
  ]
}