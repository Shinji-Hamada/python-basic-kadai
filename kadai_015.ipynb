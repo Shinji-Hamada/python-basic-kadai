{
  "nbformat": 4,
  "nbformat_minor": 0,
  "metadata": {
    "colab": {
      "provenance": [],
      "authorship_tag": "ABX9TyPNK/tGhhzycn9zR2sJkjiQ",
      "include_colab_link": true
    },
    "kernelspec": {
      "name": "python3",
      "display_name": "Python 3"
    },
    "language_info": {
      "name": "python"
    }
  },
  "cells": [
    {
      "cell_type": "markdown",
      "metadata": {
        "id": "view-in-github",
        "colab_type": "text"
      },
      "source": [
        "<a href=\"https://colab.research.google.com/github/Shinji-Hamada/python-basic-kadai/blob/main/kadai_015.ipynb\" target=\"_parent\"><img src=\"https://colab.research.google.com/assets/colab-badge.svg\" alt=\"Open In Colab\"/></a>"
      ]
    },
    {
      "cell_type": "code",
      "source": [
        "class Human:\n",
        "  def __init__(self):\n",
        "    self.name=\"\"\n",
        "    self.age=\"\"\n",
        "  def set_name(self, name, age):\n",
        "    self.name=name\n",
        "    self.age=age\n",
        "  def printinfo(self):\n",
        "    print(self.name)\n",
        "    print(self.age)\n",
        "\n",
        "shinkitoroku=Human()\n",
        "\n",
        "shinkitoroku.set_name(\"濱田\",38)\n",
        "shinkitoroku.printinfo()\n"
      ],
      "metadata": {
        "id": "w5iXr8pKlo8d",
        "colab": {
          "base_uri": "https://localhost:8080/"
        },
        "outputId": "8a2bbff3-531d-4a87-d6d4-108715321c69"
      },
      "execution_count": 1,
      "outputs": [
        {
          "output_type": "stream",
          "name": "stdout",
          "text": [
            "濱田\n",
            "38\n"
          ]
        }
      ]
    },
    {
      "cell_type": "code",
      "source": [],
      "metadata": {
        "id": "YEuVEG2HoX0j"
      },
      "execution_count": null,
      "outputs": []
    }
  ]
}