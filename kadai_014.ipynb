{
  "nbformat": 4,
  "nbformat_minor": 0,
  "metadata": {
    "colab": {
      "provenance": [],
      "authorship_tag": "ABX9TyO8TnVBUiq4INSTenTjJO/u",
      "include_colab_link": true
    },
    "kernelspec": {
      "name": "python3",
      "display_name": "Python 3"
    },
    "language_info": {
      "name": "python"
    }
  },
  "cells": [
    {
      "cell_type": "markdown",
      "metadata": {
        "id": "view-in-github",
        "colab_type": "text"
      },
      "source": [
        "<a href=\"https://colab.research.google.com/github/Shinji-Hamada/python-basic-kadai/blob/main/kadai_014.ipynb\" target=\"_parent\"><img src=\"https://colab.research.google.com/assets/colab-badge.svg\" alt=\"Open In Colab\"/></a>"
      ]
    },
    {
      "cell_type": "code",
      "source": [
        "tax = 1.1\n",
        "def total(price1, price2):\n",
        "\n",
        "    return price1 + price2\n",
        "\n",
        "print (total(100,200) * tax)"
      ],
      "metadata": {
        "id": "w5iXr8pKlo8d",
        "colab": {
          "base_uri": "https://localhost:8080/"
        },
        "outputId": "9d308681-5b93-4a5e-9589-62c59ebc23e3"
      },
      "execution_count": 13,
      "outputs": [
        {
          "output_type": "stream",
          "name": "stdout",
          "text": [
            "330.0\n"
          ]
        }
      ]
    },
    {
      "cell_type": "code",
      "source": [],
      "metadata": {
        "id": "YEuVEG2HoX0j"
      },
      "execution_count": null,
      "outputs": []
    }
  ]
}