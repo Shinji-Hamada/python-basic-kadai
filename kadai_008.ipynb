{
  "nbformat": 4,
  "nbformat_minor": 0,
  "metadata": {
    "colab": {
      "provenance": [],
      "authorship_tag": "ABX9TyO3FBa3bVNn71G7MudFheK6",
      "include_colab_link": true
    },
    "kernelspec": {
      "name": "python3",
      "display_name": "Python 3"
    },
    "language_info": {
      "name": "python"
    }
  },
  "cells": [
    {
      "cell_type": "markdown",
      "metadata": {
        "id": "view-in-github",
        "colab_type": "text"
      },
      "source": [
        "<a href=\"https://colab.research.google.com/github/Shinji-Hamada/python-basic-kadai/blob/main/kadai_008.ipynb\" target=\"_parent\"><img src=\"https://colab.research.google.com/assets/colab-badge.svg\" alt=\"Open In Colab\"/></a>"
      ]
    },
    {
      "cell_type": "code",
      "execution_count": 3,
      "metadata": {
        "id": "8UKwNmmMzsg4",
        "colab": {
          "base_uri": "https://localhost:8080/"
        },
        "outputId": "cf52effc-da33-4f3e-fa15-f3aa4bf51cc3"
      },
      "outputs": [
        {
          "output_type": "stream",
          "name": "stdout",
          "text": [
            "Fizz\n"
          ]
        }
      ],
      "source": [
        "var = 3\n",
        "\n",
        "if var%3==0 and var%5==0:\n",
        "  print(\"FizzBuzz\")\n",
        "elif var%3==0:\n",
        "  print(\"Fizz\")\n",
        "elif var%5==0:\n",
        "  print(\"Buzz\")"
      ]
    },
    {
      "cell_type": "code",
      "source": [],
      "metadata": {
        "id": "w5iXr8pKlo8d"
      },
      "execution_count": null,
      "outputs": []
    }
  ]
}