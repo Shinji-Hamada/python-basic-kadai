{
  "nbformat": 4,
  "nbformat_minor": 0,
  "metadata": {
    "colab": {
      "provenance": [],
      "authorship_tag": "ABX9TyPoWKglgvkE8mUNb08rypjz",
      "include_colab_link": true
    },
    "kernelspec": {
      "name": "python3",
      "display_name": "Python 3"
    },
    "language_info": {
      "name": "python"
    }
  },
  "cells": [
    {
      "cell_type": "markdown",
      "metadata": {
        "id": "view-in-github",
        "colab_type": "text"
      },
      "source": [
        "<a href=\"https://colab.research.google.com/github/Shinji-Hamada/python-basic-kadai/blob/main/kadai_017.ipynb\" target=\"_parent\"><img src=\"https://colab.research.google.com/assets/colab-badge.svg\" alt=\"Open In Colab\"/></a>"
      ]
    },
    {
      "cell_type": "code",
      "source": [
        "class Human:\n",
        "  def __init__(self):\n",
        "    self.name=\"\"\n",
        "    self.age=\"\"\n",
        "  def set_name(self, name, age):\n",
        "    self.name=name\n",
        "    self.age=age\n",
        "  def show_name(self):\n",
        "    print(self.name)\n",
        "    print(self.age)\n",
        "\n",
        "Toroku=Human()\n",
        "names_list = [\"一郎\",\"二郎\", \"三郎\", \"四郎\", \"五郎\"]\n",
        "ages_list = [30, 25, 23, 19, 17]\n",
        "\n",
        "for i in range(0,5):\n",
        "  Toroku.set_name(names_list[i], ages_list[i])\n",
        "  if ages_list[i]>=20:\n",
        "    print(names_list[i])\n",
        "    print(ages_list[i])\n",
        "\n"
      ],
      "metadata": {
        "id": "w5iXr8pKlo8d",
        "colab": {
          "base_uri": "https://localhost:8080/"
        },
        "outputId": "6e28e10a-3648-421f-dd6d-710d0f5b96d1"
      },
      "execution_count": 40,
      "outputs": [
        {
          "output_type": "stream",
          "name": "stdout",
          "text": [
            "一郎\n",
            "30\n",
            "二郎\n",
            "25\n",
            "三郎\n",
            "23\n"
          ]
        }
      ]
    }
  ]
}