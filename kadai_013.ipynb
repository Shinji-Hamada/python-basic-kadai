{
  "nbformat": 4,
  "nbformat_minor": 0,
  "metadata": {
    "colab": {
      "provenance": [],
      "authorship_tag": "ABX9TyNOjR459PYl8YUPV6eiuQu/",
      "include_colab_link": true
    },
    "kernelspec": {
      "name": "python3",
      "display_name": "Python 3"
    },
    "language_info": {
      "name": "python"
    }
  },
  "cells": [
    {
      "cell_type": "markdown",
      "metadata": {
        "id": "view-in-github",
        "colab_type": "text"
      },
      "source": [
        "<a href=\"https://colab.research.google.com/github/Shinji-Hamada/python-basic-kadai/blob/main/kadai_013.ipynb\" target=\"_parent\"><img src=\"https://colab.research.google.com/assets/colab-badge.svg\" alt=\"Open In Colab\"/></a>"
      ]
    },
    {
      "cell_type": "code",
      "execution_count": 8,
      "metadata": {
        "id": "8UKwNmmMzsg4",
        "colab": {
          "base_uri": "https://localhost:8080/"
        },
        "outputId": "8be7a7a8-8ffe-4bf3-b3c3-deabb8368301"
      },
      "outputs": [
        {
          "output_type": "stream",
          "name": "stdout",
          "text": [
            "消費税込み1100.0円、税抜1000円、消費税100.0円です\n"
          ]
        }
      ],
      "source": [
        "def calculate_total(price):\n",
        "  total=price*1.1\n",
        "  print(f\"消費税込み{total}円、税抜{price}円、消費税{price*0.1}円です\")\n",
        "\n",
        "calculate_total(1000)"
      ]
    },
    {
      "cell_type": "code",
      "source": [],
      "metadata": {
        "id": "w5iXr8pKlo8d"
      },
      "execution_count": null,
      "outputs": []
    }
  ]
}